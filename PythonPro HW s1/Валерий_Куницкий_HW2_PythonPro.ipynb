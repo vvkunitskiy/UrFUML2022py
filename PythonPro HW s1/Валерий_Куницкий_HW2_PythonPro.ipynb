{
  "nbformat": 4,
  "nbformat_minor": 0,
  "metadata": {
    "kernelspec": {
      "display_name": "Python 3",
      "language": "python",
      "name": "python3"
    },
    "language_info": {
      "codemirror_mode": {
        "name": "ipython",
        "version": 3
      },
      "file_extension": ".py",
      "mimetype": "text/x-python",
      "name": "python",
      "nbconvert_exporter": "python",
      "pygments_lexer": "ipython3",
      "version": "3.7.3"
    },
    "colab": {
      "provenance": []
    }
  },
  "cells": [
    {
      "cell_type": "markdown",
      "source": [
        "#Reversed integer"
      ],
      "metadata": {
        "id": "2GJcyIoN4arc"
      }
    },
    {
      "cell_type": "markdown",
      "source": [
        "Вам дано число целого типа ``a``. Вам необходимо написать функцию, которая принимает это число на вход, а на выход выдает целое число, цифры в котором записаны в обратном порядке.\n",
        "\n",
        "\n",
        "**Sample Input 1:**\n",
        "\n",
        "``\n",
        "a = 123\n",
        "``\n",
        "\n",
        "**Sample Output 1:**\n",
        "\n",
        "``321``\n",
        "\n",
        "**Sample Input 2:**\n",
        "\n",
        "``\n",
        "a = 120\n",
        "``\n",
        "\n",
        "**Sample Output 2:**\n",
        "\n",
        "``21``\n",
        "\n",
        "**Sample Input 3:**\n",
        "\n",
        "``\n",
        "-123\n",
        "``\n",
        "\n",
        "**Sample Output 3:**\n",
        "\n",
        "``321``"
      ],
      "metadata": {
        "id": "nDpM0sXf4dv5"
      }
    },
    {
      "cell_type": "code",
      "source": [
        "def run1():\n",
        "    '''\n",
        "####################\n",
        "# TASK SOLUTION:   #\n",
        "# Reversed integer #\n",
        "####################\n",
        "'''\n",
        "\n",
        "    def reverse_number(number: int) -> int:\n",
        "        '''Return a nosign number where number's digits in reverse order'''\n",
        "        \n",
        "        number = str(number)\n",
        "        #cut sign befor number\n",
        "        if number[0] == '-' or number[0] == '+':\n",
        "            number = number[:0:-1]\n",
        "        else: number = number[::-1]\n",
        "        return int(number)\n",
        "\n",
        "\n",
        "    for i in range(int(input('How many times to repeat?: '))):\n",
        "        print('\\n----- SAMPLE',i+1,'-----')\n",
        "        print(reverse_number.__doc__)\n",
        "        print(reverse_number.__annotations__)\n",
        "        print('Revere number:', reverse_number(input('Input number: ')))\n",
        "\n",
        "\n",
        "print(run1.__doc__)\n",
        "run1()"
      ],
      "metadata": {
        "id": "zy1TNSPU6ARi",
        "colab": {
          "base_uri": "https://localhost:8080/"
        },
        "outputId": "30dfd813-775a-422b-d762-dcd867a8e7ea"
      },
      "execution_count": null,
      "outputs": [
        {
          "output_type": "stream",
          "name": "stdout",
          "text": [
            "\n",
            "####################\n",
            "# TASK SOLUTION:   #\n",
            "# Reversed integer #\n",
            "####################\n",
            "\n",
            "How many times to repeat?: 6\n",
            "\n",
            "----- SAMPLE 1 -----\n",
            "Return a nosign number where number's digits in reverse order\n",
            "{'number': <class 'int'>, 'return': <class 'int'>}\n",
            "Input number: 310001\n",
            "Revere number: 100013\n",
            "\n",
            "----- SAMPLE 2 -----\n",
            "Return a nosign number where number's digits in reverse order\n",
            "{'number': <class 'int'>, 'return': <class 'int'>}\n",
            "Input number: 310000\n",
            "Revere number: 13\n",
            "\n",
            "----- SAMPLE 3 -----\n",
            "Return a nosign number where number's digits in reverse order\n",
            "{'number': <class 'int'>, 'return': <class 'int'>}\n",
            "Input number: +123\n",
            "Revere number: 321\n",
            "\n",
            "----- SAMPLE 4 -----\n",
            "Return a nosign number where number's digits in reverse order\n",
            "{'number': <class 'int'>, 'return': <class 'int'>}\n",
            "Input number: -321\n",
            "Revere number: 123\n",
            "\n",
            "----- SAMPLE 5 -----\n",
            "Return a nosign number where number's digits in reverse order\n",
            "{'number': <class 'int'>, 'return': <class 'int'>}\n",
            "Input number: 12\n",
            "Revere number: 21\n",
            "\n",
            "----- SAMPLE 6 -----\n",
            "Return a nosign number where number's digits in reverse order\n",
            "{'number': <class 'int'>, 'return': <class 'int'>}\n",
            "Input number: 6\n",
            "Revere number: 6\n"
          ]
        }
      ]
    },
    {
      "cell_type": "markdown",
      "source": [
        "#Выколотый квадрат\n"
      ],
      "metadata": {
        "id": "GT_lUMYz5YfQ"
      }
    },
    {
      "cell_type": "markdown",
      "source": [
        "Напишите функцию, которая принимает единственное число ``n: int``. Это число определяет длину стороны квадрата. Функция должна нарисовать квадрат из звездочек, при этом звездочки должны быть только на ребрах квадрата, центр должен быть выколот.\n",
        "\n",
        "**Sample Input 1:**\n",
        "\n",
        "``\n",
        "n = 5\n",
        "``\n",
        "\n",
        "**Sample Output 1:**\n",
        "```\n",
        "* * * * *\n",
        "*       *\n",
        "*       *\n",
        "*       *\n",
        "* * * * *\n",
        "\n",
        "```"
      ],
      "metadata": {
        "id": "fHOx6Dnu5cEQ"
      }
    },
    {
      "cell_type": "code",
      "source": [
        "def run2():\n",
        "    '''\n",
        "#####################\n",
        "# TASK SOLUTION:    #\n",
        "# Выколотый квадрат #\n",
        "#####################\n",
        "'''\n",
        "\n",
        "    def make_square(side: int) -> None:\n",
        "        '''Draw n-side squre from stars, n>0'''\n",
        "\n",
        "        try:\n",
        "            side = int(side)\n",
        "            if side <=0: raise ValueError\n",
        "        except ValueError:\n",
        "            print('Wrong input! Expected integer number > 0')\n",
        "            return 'Error'\n",
        "\n",
        "        border_symbol = '*'\n",
        "        inner_symbol = ' '\n",
        "\n",
        "        for i in range(1, side+1):\n",
        "            if i == 1 or i == side:\n",
        "                print(border_symbol.rjust(side, border_symbol))\n",
        "            else:\n",
        "                print(border_symbol,\n",
        "                      border_symbol.rjust(side-1, inner_symbol),\n",
        "                      sep='')\n",
        "\n",
        "\n",
        "    for i in range(int(input('How many times to repeat?: '))):\n",
        "        print('\\n----- SAMPLE',i+1,'-----')\n",
        "        print(make_square.__doc__)\n",
        "        print(make_square.__annotations__)\n",
        "        make_square(input('Type suare side: '))\n",
        "\n",
        "\n",
        "print(run2.__doc__)\n",
        "run2()"
      ],
      "metadata": {
        "id": "JUMn7OVK5_r0",
        "colab": {
          "base_uri": "https://localhost:8080/"
        },
        "outputId": "a3a854bc-32dd-4639-9748-49ec70ce5bf4"
      },
      "execution_count": null,
      "outputs": [
        {
          "output_type": "stream",
          "name": "stdout",
          "text": [
            "\n",
            "#####################\n",
            "# TASK SOLUTION:    #\n",
            "# Выколотый квадрат #\n",
            "#####################\n",
            "\n",
            "How many times to repeat?: 6\n",
            "\n",
            "----- SAMPLE 1 -----\n",
            "Draw n-side squre from stars, n>0\n",
            "{'side': <class 'int'>, 'return': None}\n",
            "Type suare side: -10\n",
            "Wrong input! Expected integer number > 0\n",
            "\n",
            "----- SAMPLE 2 -----\n",
            "Draw n-side squre from stars, n>0\n",
            "{'side': <class 'int'>, 'return': None}\n",
            "Type suare side: че?\n",
            "Wrong input! Expected integer number > 0\n",
            "\n",
            "----- SAMPLE 3 -----\n",
            "Draw n-side squre from stars, n>0\n",
            "{'side': <class 'int'>, 'return': None}\n",
            "Type suare side: 4\n",
            "****\n",
            "*  *\n",
            "*  *\n",
            "****\n",
            "\n",
            "----- SAMPLE 4 -----\n",
            "Draw n-side squre from stars, n>0\n",
            "{'side': <class 'int'>, 'return': None}\n",
            "Type suare side: 2\n",
            "**\n",
            "**\n",
            "\n",
            "----- SAMPLE 5 -----\n",
            "Draw n-side squre from stars, n>0\n",
            "{'side': <class 'int'>, 'return': None}\n",
            "Type suare side: 1\n",
            "*\n",
            "\n",
            "----- SAMPLE 6 -----\n",
            "Draw n-side squre from stars, n>0\n",
            "{'side': <class 'int'>, 'return': None}\n",
            "Type suare side: 6\n",
            "******\n",
            "*    *\n",
            "*    *\n",
            "*    *\n",
            "*    *\n",
            "******\n"
          ]
        }
      ]
    },
    {
      "cell_type": "markdown",
      "source": [
        "#Пермутации"
      ],
      "metadata": {
        "id": "8oZaq3fE6f79"
      }
    },
    {
      "cell_type": "markdown",
      "source": [
        "Вам дан массив с целыми числами ``nums``. Напишите функцию, которая принимает на вход данный массив и возвращает все возможные пермутации с данными числами. Возвращать массивы можно в любом порядке.\n",
        "\n",
        "**Sample Input 1:**\n",
        "\n",
        "``\n",
        "nums = [1,2,3]\n",
        "``\n",
        "\n",
        "**Sample Output 1:**\n",
        "\n",
        "``[[1,2,3],[1,3,2],[2,1,3],[2,3,1],[3,1,2],[3,2,1]]``\n",
        "\n",
        "**Sample Input 2:**\n",
        "\n",
        "``\n",
        "nums = [0,1]\n",
        "``\n",
        "\n",
        "**Sample Output 2:**\n",
        "\n",
        "``[[0,1],[1,0]]``\n",
        "\n",
        "**Sample Input 3:**\n",
        "\n",
        "``\n",
        "nums = [1]\n",
        "``\n",
        "\n",
        "**Sample Output 3:**\n",
        "\n",
        "``[[1]]``"
      ],
      "metadata": {
        "id": "ylJnUpIk6jrX"
      }
    },
    {
      "cell_type": "markdown",
      "source": [
        "### АХТУНГ! (readme)\n",
        "МНОГО КОДА НИЖЕ! Конечно, всё делается в два клика функцией permutations() из бибилиотеки itertools, однако это не повод не изобретать велосипед, потому что учёба, а не прод! Додумать полноценный алгоритм перестановки самому за пол дня не удалось, хотя постоянно был близок к разным вариантам. В итоге реализовал понравившийся итеративный на основе циклического сдвига и хитрой проверки. Сам алгоритм коротенький, остальной код - всякие интерфейсные красивости и параметризация работы. Некоторая логика дублируется и в функции и в коде, подготавливающем запуск функции, т.к. функция реализована с возможностью передачи ей необходимых параметров где-то в коде например через другу. функцию, не обязательно задействуя ввод от пользователя. Здечь же параметры спрашиваются у пользователя и вокруг этого построен свой маленький интерфейс. Комменты и надписи в этом ДЗ стараюсь на английском писать, но будет не везде."
      ],
      "metadata": {
        "id": "rGpVMIZE4Vqd"
      }
    },
    {
      "cell_type": "code",
      "source": [
        "def run3():\n",
        "    '''\n",
        "##################\n",
        "# TASK SOLUTION: #\n",
        "# Пермутации     #\n",
        "##################\n",
        "'''\n",
        "\n",
        "#---Функция пермутации---\n",
        "    def permutations(\n",
        "        nums: list(),\n",
        "        include_repeats: bool = False\n",
        "        ) -> dict():\n",
        "        '''Return all possible permutations for number's list'''\n",
        "        '''\n",
        "        Parameters:\n",
        "        (list) nums: list of numbers\n",
        "        (bool) include_repeats: is exclude repeats?\n",
        "                                example 1, 3, 3 and 1, 3, 3\n",
        "        \n",
        "        Return:\n",
        "        dict() where keys:\n",
        "        'permutations_list': list of lists of number's permutations\n",
        "        'all_count': count of all permutation\n",
        "                     (in fact n! where n = count of input numbers)\n",
        "        'nosame_count': if repeat numbers in input don't exist,\n",
        "                        then in fact 'Nosame_count' = 'All_count'\n",
        "                        else exclude repeats: [[1, 3, 3]] instead\n",
        "                        [[1, 3, 3],[1, 3, 3]]\n",
        "        'is_all': what staff in 'Permutations' key: unclude or exclude repeats\n",
        "        '''\n",
        "\n",
        "        try:\n",
        "            if type(nums) is not list: raise TypeError\n",
        "        except:\n",
        "            print('Wrong input data!')\n",
        "            return 'Error'\n",
        "        \n",
        "        # Список индексов элементов:\n",
        "        indexes = list(range(len(nums)))\n",
        "        # Индекс для сравнения, изначально равен индексу последнего элемента:\n",
        "        last_index = indexes[-1]\n",
        "        index = last_index\n",
        "        # Пустой список для добавления вариантов перестановки:\n",
        "        permnums = []\n",
        "\n",
        "        #print(indexes) # проследить за перестановкой индексов\n",
        "\n",
        "        # Алгоритм перестановки:\n",
        "        # - добавляем первый вариант (неперставленный):\n",
        "        permnums.append(list(nums[elem] for elem in indexes))\n",
        "        # - начинаем переставлять:\n",
        "        while index > 0:\n",
        "            # Циклический сдвиг влево всех элементов от 0 до index\n",
        "            tmp = indexes[0]\n",
        "            for i, el in enumerate(indexes[:index]):\n",
        "                indexes[i] = indexes[i+1]\n",
        "            indexes[index] = tmp\n",
        "\n",
        "            if indexes[index] != index:\n",
        "                #print(indexes) # проследить за перестановкой индексов\n",
        "                \n",
        "                # - добавляем подходящий вариант перестановки\n",
        "                permnums.append(list(nums[elem] for elem in indexes))\n",
        "                index = last_index\n",
        "            else:\n",
        "                index -= 1\n",
        "\n",
        "        # Список перестановок сформирован выше, теперь формируем выдачу:        \n",
        "        all_count = len(permnums)\n",
        "        \n",
        "        #Так мы узнаем, были ли повторные числа на входе\n",
        "        if len(nums) > len(set(nums)):\n",
        "            '''Сильное колдунство! Список со списками мы хотим превратить\n",
        "            в список со списками, где одинаковые списки сохранятся\n",
        "            только в единственном экземпляре! Это будет актуально для случаев,\n",
        "            когда у введённой последовательности были повторяющиеся числа.\n",
        "            Что мы уже проверили, поэтому делаем это:\n",
        "            '''\n",
        "            nosame = list(map(list, set(map(tuple, permnums))))\n",
        "            nosame_count = len(nosame)\n",
        "\n",
        "            if include_repeats:\n",
        "                is_all = True\n",
        "            else:\n",
        "                # Исключаем повторяющиеся варианты перестановок\n",
        "                # (остаётся один экземпляр из нескольких одинаковых)\n",
        "                is_all = False\n",
        "                permnums = nosame\n",
        "        else:\n",
        "            # Это значения, если повторяющихся цифр в инпуте не было\n",
        "            is_all = True\n",
        "            nosame_count = all_count\n",
        "\n",
        "        # Словарь на выдачу\n",
        "        permutations_return = {\n",
        "            'permutations_list': permnums,\n",
        "            'all_count': all_count,\n",
        "            'nosame_count': nosame_count,\n",
        "            'is_all': is_all}\n",
        "\n",
        "        return permutations_return\n",
        "#---Конец функции пермутации---\n",
        "\n",
        "\n",
        "    # Сколько раз запустить решение?\n",
        "    for i in range(int(input('How many times to repeat?: '))):\n",
        "        print('\\n----- SAMPLE',i+1,'-----')\n",
        "        print(permutations.__doc__)\n",
        "        print(permutations.__annotations__)\n",
        "        \n",
        "        # Ввод данных, проверка их корректности и превращение в список\n",
        "        nums = input('Input separated spaces numbers: ')\n",
        "        try:\n",
        "            nums = list(map(int, nums.split()))\n",
        "        except:\n",
        "            print('Wrong input data!')\n",
        "            return 'Error'\n",
        "            \n",
        "        # Если в списке есть повторяющиеся числа, можно будет\n",
        "        # исключить перестановки между одинаковыми числами\n",
        "        if len(nums) > len(set(nums)):\n",
        "            is_include_repeats = \\\n",
        "            bool(input('Fined repeated numbers!!!\\n'\n",
        "                     + 'Do you want exclude repeated permutations?\\n'\n",
        "                     + 'Type ANYTHING for NO,\\nor EMPTY input for YES:\\n'))\n",
        "        else: is_include_repeats = False\n",
        "\n",
        "        #Запускаем нашу функцию!\n",
        "        print('Calculate permutations for number\\'s list:', nums, sep='\\n')\n",
        "        output = permutations(nums, include_repeats=is_include_repeats)\n",
        "        #Формируем варианты вывода:\n",
        "        print('All possible perms:',output['permutations_list'])\n",
        "        if (output['all_count'] > output['nosame_count']):\n",
        "            if output['is_all']:\n",
        "                print('Showed all permutations, INCLUDE SAMES')\n",
        "                print('All permutations count:', output['all_count'])\n",
        "                print('Permutations without sames count:',\n",
        "                      output['nosame_count'])\n",
        "            else:\n",
        "                print('Showed permutations EXCLUDE SAMES')\n",
        "                print('All permutations count:', output['all_count'])\n",
        "                print('Permutations without sames count:',\n",
        "                      output['nosame_count'])\n",
        "        else:\n",
        "            print('Total permutations counts:', output['all_count'])\n",
        "\n",
        "\n",
        "# Запускаем решение!\n",
        "print(run3.__doc__)\n",
        "run3()"
      ],
      "metadata": {
        "colab": {
          "base_uri": "https://localhost:8080/"
        },
        "id": "b9iraB01OCX9",
        "outputId": "55b6ab36-6b50-4ab0-8edc-7bb668520f95"
      },
      "execution_count": null,
      "outputs": [
        {
          "output_type": "stream",
          "name": "stdout",
          "text": [
            "\n",
            "##################\n",
            "# TASK SOLUTION: #\n",
            "# Пермутации     #\n",
            "##################\n",
            "\n",
            "How many times to repeat?: 4\n",
            "\n",
            "----- SAMPLE 1 -----\n",
            "Return all possible permutations for number's list\n",
            "{'nums': [], 'include_repeats': <class 'bool'>, 'return': {'permutations_list': [], 'all_count': <class 'int'>, 'nosame_count': <class 'int'>, 'is_all': <class 'bool'>}}\n",
            "Input separated spaces numbers: 10 20 30\n",
            "Calculate permutations for number's list:\n",
            "[10, 20, 30]\n",
            "All possible perms: [[10, 20, 30], [20, 30, 10], [30, 10, 20], [20, 10, 30], [10, 30, 20], [30, 20, 10]]\n",
            "Total permutations counts: 6\n",
            "\n",
            "----- SAMPLE 2 -----\n",
            "Return all possible permutations for number's list\n",
            "{'nums': [], 'include_repeats': <class 'bool'>, 'return': {'permutations_list': [], 'all_count': <class 'int'>, 'nosame_count': <class 'int'>, 'is_all': <class 'bool'>}}\n",
            "Input separated spaces numbers: 300 100 300\n",
            "Fined repeated numbers!!!\n",
            "Do you want exclude repeated permutations?\n",
            "Type ANYTHING for NO,\n",
            "or EMPTY input for YES:\n",
            "\n",
            "Calculate permutations for number's list:\n",
            "[300, 100, 300]\n",
            "All possible perms: [[300, 300, 100], [300, 100, 300], [100, 300, 300]]\n",
            "Showed permutations EXCLUDE SAMES\n",
            "All permutations count: 6\n",
            "Permutations without sames count: 3\n",
            "\n",
            "----- SAMPLE 3 -----\n",
            "Return all possible permutations for number's list\n",
            "{'nums': [], 'include_repeats': <class 'bool'>, 'return': {'permutations_list': [], 'all_count': <class 'int'>, 'nosame_count': <class 'int'>, 'is_all': <class 'bool'>}}\n",
            "Input separated spaces numbers: 300 100 300\n",
            "Fined repeated numbers!!!\n",
            "Do you want exclude repeated permutations?\n",
            "Type ANYTHING for NO,\n",
            "or EMPTY input for YES:\n",
            "wtf?\n",
            "Calculate permutations for number's list:\n",
            "[300, 100, 300]\n",
            "All possible perms: [[300, 100, 300], [100, 300, 300], [300, 300, 100], [100, 300, 300], [300, 300, 100], [300, 100, 300]]\n",
            "Showed all permutations, INCLUDE SAMES\n",
            "All permutations count: 6\n",
            "Permutations without sames count: 3\n",
            "\n",
            "----- SAMPLE 4 -----\n",
            "Return all possible permutations for number's list\n",
            "{'nums': [], 'include_repeats': <class 'bool'>, 'return': {'permutations_list': [], 'all_count': <class 'int'>, 'nosame_count': <class 'int'>, 'is_all': <class 'bool'>}}\n",
            "Input separated spaces numbers: 4 2 3 1\n",
            "Calculate permutations for number's list:\n",
            "[4, 2, 3, 1]\n",
            "All possible perms: [[4, 2, 3, 1], [2, 3, 1, 4], [3, 1, 4, 2], [1, 4, 2, 3], [2, 3, 4, 1], [3, 4, 1, 2], [4, 1, 2, 3], [1, 2, 3, 4], [3, 4, 2, 1], [4, 2, 1, 3], [2, 1, 3, 4], [1, 3, 4, 2], [2, 4, 3, 1], [4, 3, 1, 2], [3, 1, 2, 4], [1, 2, 4, 3], [4, 3, 2, 1], [3, 2, 1, 4], [2, 1, 4, 3], [1, 4, 3, 2], [3, 2, 4, 1], [2, 4, 1, 3], [4, 1, 3, 2], [1, 3, 2, 4]]\n",
            "Total permutations counts: 24\n"
          ]
        }
      ]
    },
    {
      "cell_type": "code",
      "source": [],
      "metadata": {
        "id": "AzhJABzn7GYR"
      },
      "execution_count": null,
      "outputs": []
    },
    {
      "cell_type": "markdown",
      "metadata": {
        "id": "MDEu6tZQYATy"
      },
      "source": [
        "### Почти двойной факториал\n",
        "Дано натуральное $N \\leqslant 100$.  Выведите произведение всех чётных натуральных чисел, не превосходящих $N$."
      ]
    },
    {
      "cell_type": "code",
      "source": [
        "def almost_double_factorial(n: int) -> int:\n",
        "    '''Return product for all even numbers'''\n",
        "    if n > 100: return 'Toooo biiiiggg! Try smaller number, bro!'\n",
        "    if n%2 == 0 and  n > 1:\n",
        "        return n*almost_double_factorial(n-2)\n",
        "    elif n%2 != 0 and n > 1:\n",
        "        return almost_double_factorial(n-1)\n",
        "    else: return 1\n",
        "\n",
        "def run4():\n",
        "    '''\n",
        "###########################\n",
        "# TASK SOLUTION:          #\n",
        "# Почти двойной факториал #\n",
        "###########################\n",
        "'''\n",
        "\n",
        "    for i in range(int(input('How many times to repeat?: '))):\n",
        "        print('\\n----- SAMPLE',i+1,'-----')\n",
        "        print(almost_double_factorial.__doc__)\n",
        "        print(almost_double_factorial.__annotations__)\n",
        "        print(almost_double_factorial(int(input('Input number: '))))\n",
        "\n",
        "\n",
        "print(run4.__doc__)\n",
        "run4()"
      ],
      "metadata": {
        "id": "fjCKZc4Q6aId",
        "colab": {
          "base_uri": "https://localhost:8080/"
        },
        "outputId": "f195c558-aafe-422d-b7ec-47e0f91ff68e"
      },
      "execution_count": null,
      "outputs": [
        {
          "output_type": "stream",
          "name": "stdout",
          "text": [
            "\n",
            "###########################\n",
            "# TASK SOLUTION:          #\n",
            "# Почти двойной факториал #\n",
            "###########################\n",
            "\n",
            "How many times to repeat?: 5\n",
            "\n",
            "----- SAMPLE 1 -----\n",
            "Return product for all even numbers\n",
            "{'n': <class 'int'>, 'return': <class 'int'>}\n",
            "Input number: 6\n",
            "48\n",
            "\n",
            "----- SAMPLE 2 -----\n",
            "Return product for all even numbers\n",
            "{'n': <class 'int'>, 'return': <class 'int'>}\n",
            "Input number: 9\n",
            "384\n",
            "\n",
            "----- SAMPLE 3 -----\n",
            "Return product for all even numbers\n",
            "{'n': <class 'int'>, 'return': <class 'int'>}\n",
            "Input number: 25\n",
            "1961990553600\n",
            "\n",
            "----- SAMPLE 4 -----\n",
            "Return product for all even numbers\n",
            "{'n': <class 'int'>, 'return': <class 'int'>}\n",
            "Input number: 100\n",
            "34243224702511976248246432895208185975118675053719198827915654463488000000000000\n",
            "\n",
            "----- SAMPLE 5 -----\n",
            "Return product for all even numbers\n",
            "{'n': <class 'int'>, 'return': <class 'int'>}\n",
            "Input number: 101\n",
            "Toooo biiiiggg! Try smaller number, bro!\n"
          ]
        }
      ]
    },
    {
      "cell_type": "code",
      "metadata": {
        "id": "5GgcNVy1YAT0"
      },
      "source": [
        "N = 25\n",
        "#YOUR CODE\n",
        "N_double_fact = almost_double_factorial(N)\n",
        "\n",
        "assert N_double_fact == 1961990553600, \"Something is wrong! Please try again\"\n",
        "\n",
        "N = 100\n",
        "N_double_fact = almost_double_factorial(N)\n",
        "assert N_double_fact == 34243224702511976248246432895208185975118675053719198827915654463488000000000000, \"Something is wrong! Please try again\"\n",
        "\n",
        "#добавил:\n",
        "N = 101\n",
        "N_double_fact = almost_double_factorial(N)\n",
        "assert N_double_fact == 'Toooo biiiiggg! Try smaller number, bro!', \"Something is wrong! Please try again\""
      ],
      "execution_count": null,
      "outputs": []
    },
    {
      "cell_type": "markdown",
      "metadata": {
        "id": "A57_204nYAT3"
      },
      "source": [
        "### Хитрая сортировка\n",
        "\n",
        "Пусть у нас есть следующий список, в котором элементы -- tuple из строк:\n",
        "\n",
        "``items = [('one', 'two'), ('three', 'four'), ('five', 'six'), ('string', 'a')]``\n",
        "\n",
        "Мы хотим отсортировать этот список по последней букве второго элемента каждого ``tuple``, т.е. получить такой список:\n",
        "\n",
        "``sorted_items = [('string', 'a'), ('one', 'two'), ('three', 'four'), ('five', 'six')]``.\n",
        "Что нужно вставить вместо \"###\" в следующем выражении, чтобы получить сортировку?\n",
        "\n",
        "``sorted_items = sorted(items, key=lambda x: ###)``"
      ]
    },
    {
      "cell_type": "code",
      "metadata": {
        "id": "SnIk7m_8YAT4"
      },
      "source": [
        "items = [('one', 'two'), ('three', 'four'), ('five', 'six'), ('string', 'a')]\n",
        "\n",
        "sorted_items = sorted(items, key=lambda x: x[1][-1]) # <<<ВОТ ЭТО!\n",
        "                      \n",
        "assert sorted_items == [('string', 'a'), ('one', 'two'), ('three', 'four'), ('five', 'six')], \\\n",
        "\"Something is wrong! Please try again\""
      ],
      "execution_count": null,
      "outputs": []
    },
    {
      "cell_type": "markdown",
      "metadata": {
        "id": "f_ggknIxYAT7"
      },
      "source": [
        "### Еще строки\n",
        "\n",
        "Вашей программе на вход подаются три строки ``s, a, b``, состоящие из строчных латинских букв.\n",
        "За одну операцию вы можете заменить все вхождения строки ``a`` в строку ``s`` на строку ``b``.\n",
        "\n",
        "Например, ``s = \"abab\", a = \"ab\", b = \"ba\"``, тогда после выполнения одной операции строка ``s`` перейдет в строку ``\"baba\"``, после выполнения двух и операций – в строку ``\"bbaa\"``, и дальнейшие операции не будут изменять строку ``s``.\n",
        "\n",
        "Необходимо узнать, после какого минимального количества операций в строке ``s`` не останется вхождений строки ``a``. Если операций потребуется более 1000, выведите ``Impossible``.\n",
        "\n",
        "Выведите одно число – минимальное число операций, после применения которых в строке ``s`` не останется вхождений строки ``a``, или ``Impossible``, если операций потребуется более 1000.\n",
        "\n",
        "**Sample Input 1:**\n",
        "\n",
        "``\n",
        "ababa\n",
        "a\n",
        "b\n",
        "``\n",
        "\n",
        "**Sample Output 1:**\n",
        "\n",
        "``1``\n",
        "\n",
        "**Sample Input 2:**\n",
        "\n",
        "``ababa\n",
        "b\n",
        "a``\n",
        "\n",
        "**Sample Output 2:**\n",
        "\n",
        "``1``\n",
        "\n",
        "**Sample Input 3:**\n",
        "\n",
        "``ababa\n",
        "c\n",
        "c``\n",
        "\n",
        "**Sample Output 3:**\n",
        "\n",
        "``0``\n",
        "\n",
        "**Sample Input 4:**\n",
        "\n",
        "``ababac\n",
        "c\n",
        "c``\n",
        "\n",
        "**Sample Output 4:**\n",
        "\n",
        "``Impossible``\n"
      ]
    },
    {
      "cell_type": "code",
      "metadata": {
        "id": "JcLMmkF6YAT8",
        "colab": {
          "base_uri": "https://localhost:8080/"
        },
        "outputId": "8d2bc13a-a923-4111-806b-7a010cad5d76"
      },
      "source": [
        "def run6():\n",
        "    '''\n",
        "##################\n",
        "# TASK SOLUTION: #\n",
        "# Еще строки     #\n",
        "##################\n",
        "'''\n",
        "\n",
        "    def my_func(s: str, a: str, b: str):\n",
        "        '''Считает рекурсивно все замены на <b> вхождений <a> в <s>'''\n",
        "\n",
        "        count = 0\n",
        "        L = len(a)\n",
        "        #print(s)\n",
        "        \n",
        "        while count <= 1000:\n",
        "            if s.find(a) == -1:\n",
        "                return count\n",
        "            else:\n",
        "                s = s.replace(a,b)\n",
        "                count += 1\n",
        "                #print(s)\n",
        "\n",
        "\n",
        "        return 'Impossible'\n",
        "\n",
        "\n",
        "    for i in range(int(input('How many times to repeat?: '))):\n",
        "        print('\\n----- SAMPLE',i+1,'-----')\n",
        "        print(my_func.__doc__)\n",
        "        print(my_func.__annotations__)\n",
        "\n",
        "        in_vars = input('Input s, a, b separeted spaces: ')\n",
        "        s = in_vars.split()[0]\n",
        "        a = in_vars.split()[1]\n",
        "        b = in_vars.split()[2]\n",
        "        res = my_func(s, a, b)\n",
        "\n",
        "        if res == 'Impossible': print(res)\n",
        "        else: print('Need', res, 'iterations')\n",
        "\n",
        "\n",
        "print(run6.__doc__)\n",
        "run6()"
      ],
      "execution_count": null,
      "outputs": [
        {
          "output_type": "stream",
          "name": "stdout",
          "text": [
            "\n",
            "##################\n",
            "# TASK SOLUTION: #\n",
            "# Еще строки     #\n",
            "##################\n",
            "\n",
            "How many times to repeat?: 5\n",
            "\n",
            "----- SAMPLE 1 -----\n",
            "Считает рекурсивно все замены на <b> вхождений <a> в <s>\n",
            "{'s': <class 'str'>, 'a': <class 'str'>, 'b': <class 'str'>}\n",
            "Input s, a, b separeted spaces: abcabc abc d\n",
            "Need 1 iterations\n",
            "\n",
            "----- SAMPLE 2 -----\n",
            "Считает рекурсивно все замены на <b> вхождений <a> в <s>\n",
            "{'s': <class 'str'>, 'a': <class 'str'>, 'b': <class 'str'>}\n",
            "Input s, a, b separeted spaces: ababa aba ba\n",
            "Need 2 iterations\n",
            "\n",
            "----- SAMPLE 3 -----\n",
            "Считает рекурсивно все замены на <b> вхождений <a> в <s>\n",
            "{'s': <class 'str'>, 'a': <class 'str'>, 'b': <class 'str'>}\n",
            "Input s, a, b separeted spaces: aabababab c b\n",
            "Need 0 iterations\n",
            "\n",
            "----- SAMPLE 4 -----\n",
            "Считает рекурсивно все замены на <b> вхождений <a> в <s>\n",
            "{'s': <class 'str'>, 'a': <class 'str'>, 'b': <class 'str'>}\n",
            "Input s, a, b separeted spaces: abbaabbaabbaabba ab ba\n",
            "Need 8 iterations\n",
            "\n",
            "----- SAMPLE 5 -----\n",
            "Считает рекурсивно все замены на <b> вхождений <a> в <s>\n",
            "{'s': <class 'str'>, 'a': <class 'str'>, 'b': <class 'str'>}\n",
            "Input s, a, b separeted spaces: abc c c\n",
            "Impossible\n"
          ]
        }
      ]
    },
    {
      "cell_type": "markdown",
      "metadata": {
        "id": "3QOrzr1_YAT_"
      },
      "source": [
        "### Создание массивов\n",
        "Дан массив $A[0,\\ldots,N-1]$. Напишите функцию, принимающую один обязательный аргумент A и один опциональный аргумент ``erase``, по умолчанию равный 1. Возвратите массив $B[0,\\ldots, N-1]$, где $B_i = A_0 + \\ldots + A_{i}$ --- массив частичных сумм массива $A$, предварительно удалив из массива $B$ все элементы, равные erase. Постарайтесь сделать это за линейное время без использования Numpy."
      ]
    },
    {
      "cell_type": "code",
      "metadata": {
        "id": "GSeVXF-xYAUA",
        "colab": {
          "base_uri": "https://localhost:8080/"
        },
        "outputId": "e0a826ee-19d4-4996-ff72-b97e6b94b61c"
      },
      "source": [
        "def cumsum_and_erase(a: list(), erase: int = 1) -> list():\n",
        "    '''Makes black magic'''\n",
        "\n",
        "    b = []\n",
        "    for i, el in enumerate(a):\n",
        "        s = sum(a[:i+1])\n",
        "        if s !=  erase: b.append(s)\n",
        "\n",
        "    return b\n",
        "\n",
        "print(cumsum_and_erase.__doc__)\n",
        "print(cumsum_and_erase.__annotations__)\n",
        "\n",
        "A = [5, 1, 4, 5, 14]\n",
        "B = cumsum_and_erase(A, erase=10)\n",
        "\n",
        "print(A)\n",
        "print(B)\n",
        "\n",
        "assert B == [5, 6, 15, 29], \"Something is wrong! Please try again\""
      ],
      "execution_count": 98,
      "outputs": [
        {
          "output_type": "stream",
          "name": "stdout",
          "text": [
            "Makes black magic\n",
            "{'a': [], 'erase': <class 'int'>, 'return': []}\n",
            "[5, 1, 4, 5, 14]\n",
            "[5, 6, 15, 29]\n"
          ]
        }
      ]
    },
    {
      "cell_type": "markdown",
      "metadata": {
        "id": "xvOBFjavYAUD"
      },
      "source": [
        "### Обработка текста\n",
        "Дан список текстов, слова в которых разделены пробелами (можно считать, что знаков препинания нет). Часть слов является \"мусорными\": в них присутствуют цифры и спецсимволы. Отфильтруйте такие слова из каждого текста. Используйте функции ``str.split``, ``str.isalpha``, ``str.join``, а также [генератор filter](http://pythonicway.com/python-functinal-programming)."
      ]
    },
    {
      "cell_type": "code",
      "metadata": {
        "id": "GBzS-UHZYAUE",
        "colab": {
          "base_uri": "https://localhost:8080/"
        },
        "outputId": "fc1a962f-f014-4063-e169-b699748aba31"
      },
      "source": [
        "sentences = ['1 thousand devils', 'My name is 9Pasha', 'Room #125 costs $100']\n",
        "\n",
        "def process(sentences):\n",
        "    print(sentences)\n",
        "    \n",
        "    result = []\n",
        "    tmplist = []\n",
        "    for i in range(len(sentences)):\n",
        "        tmplist.append(list(sentences[i].split()))\n",
        "        tmplist[i] = list(filter(lambda x: x.isalpha(), tmplist[i]))\n",
        "        result.append(' '.join(tmplist[i]))\n",
        "        \n",
        "    print(result)\n",
        "    \n",
        "    return result\n",
        "\n",
        "assert process(sentences) == ['thousand devils', 'My name is', 'Room costs'], \\\n",
        "\"Something is wrong! Please try again\""
      ],
      "execution_count": null,
      "outputs": [
        {
          "output_type": "stream",
          "name": "stdout",
          "text": [
            "['1 thousand devils', 'My name is 9Pasha', 'Room #125 costs $100']\n",
            "['thousand devils', 'My name is', 'Room costs']\n"
          ]
        }
      ]
    },
    {
      "cell_type": "markdown",
      "source": [
        "#Расстояние Хэмминга"
      ],
      "metadata": {
        "id": "lNCcTYSRow1j"
      }
    },
    {
      "cell_type": "markdown",
      "source": [
        "Вам даны две строки, ``a`` и ``b`` одинаковой длины. Необходимо посчитать расстояние Хэмминга между ними, которое определяется как количество символов, которые не совпадают между двумя строками в одинаковой позиции.\n",
        "\n",
        "**Sample Input 1:**\n",
        "\n",
        "```\n",
        "a = 'AGCT'\n",
        "b = 'ACGT'\n",
        "hamming(a, b)\n",
        "```\n",
        "\n",
        "**Sample Output 1:**\n",
        "\n",
        "``2``"
      ],
      "metadata": {
        "id": "8jfcOp6ckl30"
      }
    },
    {
      "cell_type": "code",
      "source": [
        "def hamming(a: str, b: str) -> int:\n",
        "    '''Return hamming'''\n",
        "    res = 0\n",
        "    for i in range(len(a)):\n",
        "        if a[i] != b[i]: res += 1\n",
        "    return res\n",
        "\n",
        "\n",
        "def run9():\n",
        "    '''\n",
        "#######################\n",
        "# TASK SOLUTION:      #\n",
        "# Расстояние Хэмминга #\n",
        "#######################\n",
        "'''\n",
        "\n",
        "    for i in range(int(input('How many times to repeat?: '))):\n",
        "        print('\\n----- SAMPLE',i+1,'-----')\n",
        "        print(hamming.__doc__)\n",
        "        print(hamming.__annotations__)\n",
        "        \n",
        "        a = input('Input <A> word: ')\n",
        "        b = input('Input <B> word: ')\n",
        "        print('Hamming =',hamming(a, b))\n",
        "\n",
        "\n",
        "print(run9.__doc__)\n",
        "run9()\n",
        "\n",
        "\n",
        "assert hamming(\"AGCT\", \"ACGT\") == 2\n",
        "assert hamming(\"AGOCT\", \"ACOGT\") == 2\n",
        "assert hamming(\"ACCT\", \"ACGT\") == 1"
      ],
      "metadata": {
        "id": "d_IYhoPcg3Ru",
        "colab": {
          "base_uri": "https://localhost:8080/"
        },
        "outputId": "0f841186-566c-4524-e4ff-f946f21526de"
      },
      "execution_count": 1,
      "outputs": [
        {
          "output_type": "stream",
          "name": "stdout",
          "text": [
            "\n",
            "#######################\n",
            "# TASK SOLUTION:      #\n",
            "# Расстояние Хэмминга #\n",
            "#######################\n",
            "\n",
            "How many times to repeat?: 3\n",
            "\n",
            "----- SAMPLE 1 -----\n",
            "Return hamming\n",
            "{'a': <class 'str'>, 'b': <class 'str'>, 'return': <class 'int'>}\n",
            "Input <A> word: abcd\n",
            "Input <B> word: abcd\n",
            "Hamming = 0\n",
            "\n",
            "----- SAMPLE 2 -----\n",
            "Return hamming\n",
            "{'a': <class 'str'>, 'b': <class 'str'>, 'return': <class 'int'>}\n",
            "Input <A> word: accd\n",
            "Input <B> word: abbd\n",
            "Hamming = 2\n",
            "\n",
            "----- SAMPLE 3 -----\n",
            "Return hamming\n",
            "{'a': <class 'str'>, 'b': <class 'str'>, 'return': <class 'int'>}\n",
            "Input <A> word: abcd\n",
            "Input <B> word: dcba\n",
            "Hamming = 4\n"
          ]
        }
      ]
    },
    {
      "cell_type": "markdown",
      "source": [
        "### Numpy"
      ],
      "metadata": {
        "id": "iA7EQgga9OB-"
      }
    },
    {
      "cell_type": "code",
      "source": [
        "import numpy as np\n",
        "import random\n",
        "import scipy.stats as sps"
      ],
      "metadata": {
        "id": "HEFAaMjP9CRh"
      },
      "execution_count": 3,
      "outputs": []
    },
    {
      "cell_type": "markdown",
      "source": [
        "### Задание 1\n",
        "В первой задаче вам предлагается перемножить две квадратные матрицы двумя способами -- без использования пакета ***numpy*** и с ним."
      ],
      "metadata": {
        "id": "6Bul4Uue9Ww9"
      }
    },
    {
      "cell_type": "code",
      "source": [
        "# Для генерации матриц используем фукнцию random -- она используется для генерации случайных объектов \n",
        "# функция sample создает случайную выборку. В качестве аргумента ей передается кортеж (i,j),  \n",
        "# здесь i -- число строк, j -- число столбцов.\n",
        "a = np.random.sample((100, 100))\n",
        "b = np.random.sample((100, 100))\n",
        "\n",
        "# Выведите размерность (ранг) каждой матрицы с помощью функции ndim.\n",
        "# Используйте функцию shape, что она вывела?\n",
        "\n",
        "# ========\n",
        "# Ваш код здесь\n",
        "\n",
        "print('Размерность а:', np.ndim(a))\n",
        "print('Размерность b:', np.ndim(b))\n",
        "print('\\n')\n",
        "\n",
        "def forma(x):\n",
        "    '''Превратим вывод от shape() в словестный вывод (для любой размерности)'''\n",
        "    res = ''\n",
        "    L = np.shape(x)\n",
        "    for i, el in enumerate(L):\n",
        "        res += (' на ' + str(el)) if i > 0 else str(el)\n",
        "    return res\n",
        "\n",
        "\n",
        "print('Размер (форма) а:', forma(a), 'элементов')\n",
        "print('Размер (форма) b:', forma(b), 'элементов')\n",
        "print('\\n\\n')\n",
        "# ========\n",
        "print(a)\n",
        "print(b)"
      ],
      "metadata": {
        "id": "ClrydYj59XPc",
        "colab": {
          "base_uri": "https://localhost:8080/"
        },
        "outputId": "8b5eb199-35da-4575-8b5b-7edef137612d"
      },
      "execution_count": 80,
      "outputs": [
        {
          "output_type": "stream",
          "name": "stdout",
          "text": [
            "Размерность а: 2\n",
            "Размерность b: 2\n",
            "\n",
            "\n",
            "Размер (форма) а: 100 на 100 элементов\n",
            "Размер (форма) b: 100 на 100 элементов\n",
            "\n",
            "\n",
            "\n",
            "[[0.81298507 0.91449151 0.05655686 ... 0.08932963 0.67611225 0.37685506]\n",
            " [0.40560372 0.84569848 0.08819376 ... 0.90508079 0.65778109 0.17140102]\n",
            " [0.98287582 0.34657395 0.94462321 ... 0.33151339 0.18051414 0.44136657]\n",
            " ...\n",
            " [0.50250755 0.69943245 0.34564099 ... 0.18385174 0.62015069 0.84041655]\n",
            " [0.02799098 0.39457442 0.38687739 ... 0.04906035 0.55254949 0.66237573]\n",
            " [0.19898477 0.51978249 0.82747853 ... 0.51140468 0.36691377 0.02495858]]\n",
            "[[0.80246608 0.83205784 0.89276143 ... 0.49051866 0.19977663 0.59337228]\n",
            " [0.239075   0.1693943  0.50350765 ... 0.45949357 0.06016528 0.89705464]\n",
            " [0.145985   0.4510614  0.04212455 ... 0.90091357 0.31292409 0.1968776 ]\n",
            " ...\n",
            " [0.24969354 0.45121353 0.05141016 ... 0.26917674 0.97149855 0.35283609]\n",
            " [0.94268769 0.1769603  0.21052244 ... 0.32160127 0.83730633 0.72184556]\n",
            " [0.27885439 0.55147056 0.92875751 ... 0.65873646 0.62317663 0.01315044]]\n"
          ]
        }
      ]
    },
    {
      "cell_type": "code",
      "source": [
        "def mult(a, b):\n",
        "    \"\"\"  \n",
        "    a: list of \"size\" lists, each contains \"size\" floats --- первая матрица-аргумент\n",
        "    b: list of \"size\" lists, each contains \"size\" floats --- вторая матрица-аргумент\n",
        "    return c: list of \"size\" lists, each contains \"size\" floats --- матрица, являющаяся результатом умножения матриц a и b\n",
        "    \n",
        "    Функция принимает на вход две матрицы: a и b размерностью size x size\n",
        "    Возвращает матрицу их произведения a * b = c \n",
        "\n",
        "    Реализуйте умножение матриц без использования функций из пакета numpy (может помочь функция zip)\n",
        "    \"\"\"\n",
        "    \n",
        "    axi = range(np.shape(a)[0]) # список индексов по строкам а-матрицы\n",
        "    ayi = range(np.shape(a)[1]) # список индексов по столбцам а-матрицы\n",
        "    byi = range(np.shape(b)[1]) # список индексов по столбцам b-матрицы\n",
        "\n",
        "    # Матрица нужного размера для сохранения результатов перемножения\n",
        "    # строк будет столько же сколько у а-матрицы, а столбцов будет столько же,\n",
        "    # сколько столбцов у b-матрицы\n",
        "    c = np.zeros((len(axi), len(byi)))\n",
        "\n",
        "    for n in axi:\n",
        "        for j in byi:\n",
        "            s = 0\n",
        "            for i in ayi:\n",
        "                s += a[n][i]*b[i][j]\n",
        "            c[n][j] += s\n",
        "    return c\n",
        "\n",
        "print(mult(a,b))"
      ],
      "metadata": {
        "id": "yeejqk_z9aXD",
        "colab": {
          "base_uri": "https://localhost:8080/"
        },
        "outputId": "bdb0f3a8-0d69-4ab6-f63b-b3a44880b769"
      },
      "execution_count": 91,
      "outputs": [
        {
          "output_type": "stream",
          "name": "stdout",
          "text": [
            "[[23.82850092 25.87737217 23.47954394 ... 22.68823084 23.17724973\n",
            "  25.69403391]\n",
            " [26.31239154 26.80678257 22.06392763 ... 23.15250871 24.07593064\n",
            "  25.93145125]\n",
            " [27.41121611 28.85416263 24.20942953 ... 24.18713464 24.25051613\n",
            "  24.86693991]\n",
            " ...\n",
            " [26.22518724 26.32593886 23.47818556 ... 24.2622873  22.97952968\n",
            "  23.89056494]\n",
            " [26.38763136 27.54707075 23.5902719  ... 25.36227133 24.85927072\n",
            "  22.73585246]\n",
            " [24.35634625 25.07394362 25.38252119 ... 25.53998354 22.20796959\n",
            "  25.27336341]]\n"
          ]
        }
      ]
    },
    {
      "cell_type": "code",
      "source": [
        "def np_mult(a, b):\n",
        "    \"\"\"  \n",
        "    a: np.array[size, size]             --- первая матрица-аргумент\n",
        "    b: np.array[size, size] --- вторая матрица-аргумент\n",
        "    return c: np.array[size, size]       --- матрица, являющаяся результатом умножения матриц a и b\n",
        "    \n",
        "    Функция принимает на вход две матрицы: a и b размерностью size x size\n",
        "    Возвращает матрицу их произведения a * b = c \n",
        "\n",
        "    Реализуйте умножение матриц, используя функции из пакета numpy\n",
        "    \"\"\"\n",
        "    return np.matmul(a, b)\n",
        "\n",
        "print(np_mult(a, b))"
      ],
      "metadata": {
        "id": "ul0QaXni9cAq",
        "colab": {
          "base_uri": "https://localhost:8080/"
        },
        "outputId": "8179b50f-8e3c-471a-e8f9-91c012efee52"
      },
      "execution_count": 92,
      "outputs": [
        {
          "output_type": "stream",
          "name": "stdout",
          "text": [
            "[[23.82850092 25.87737217 23.47954394 ... 22.68823084 23.17724973\n",
            "  25.69403391]\n",
            " [26.31239154 26.80678257 22.06392763 ... 23.15250871 24.07593064\n",
            "  25.93145125]\n",
            " [27.41121611 28.85416263 24.20942953 ... 24.18713464 24.25051613\n",
            "  24.86693991]\n",
            " ...\n",
            " [26.22518724 26.32593886 23.47818556 ... 24.2622873  22.97952968\n",
            "  23.89056494]\n",
            " [26.38763136 27.54707075 23.5902719  ... 25.36227133 24.85927072\n",
            "  22.73585246]\n",
            " [24.35634625 25.07394362 25.38252119 ... 25.53998354 22.20796959\n",
            "  25.27336341]]\n"
          ]
        }
      ]
    },
    {
      "cell_type": "code",
      "source": [
        "%%time\n",
        "# засечем время работы функции без NumPy\n",
        "M1 = mult(a, b)"
      ],
      "metadata": {
        "id": "gFdt-Kbe9gWi",
        "colab": {
          "base_uri": "https://localhost:8080/"
        },
        "outputId": "b1100fdc-e088-44ba-b958-faed5c12eb88"
      },
      "execution_count": 93,
      "outputs": [
        {
          "output_type": "stream",
          "name": "stdout",
          "text": [
            "CPU times: user 624 ms, sys: 0 ns, total: 624 ms\n",
            "Wall time: 626 ms\n"
          ]
        }
      ]
    },
    {
      "cell_type": "code",
      "source": [
        "%%time\n",
        "# засечем время работы функции с NumPy\n",
        "M2 = np_mult(a, b)"
      ],
      "metadata": {
        "id": "F5QOtMj19h4n",
        "colab": {
          "base_uri": "https://localhost:8080/"
        },
        "outputId": "9163352c-4923-43e4-c266-b36575a2b8d5"
      },
      "execution_count": 94,
      "outputs": [
        {
          "output_type": "stream",
          "name": "stdout",
          "text": [
            "CPU times: user 2.86 ms, sys: 0 ns, total: 2.86 ms\n",
            "Wall time: 1.46 ms\n"
          ]
        }
      ]
    },
    {
      "cell_type": "code",
      "source": [
        "# проверим корректность\n",
        "assert np.allclose(np.array(M1), M2)"
      ],
      "metadata": {
        "id": "BTDTjNjk9i3s"
      },
      "execution_count": 95,
      "outputs": []
    },
    {
      "cell_type": "code",
      "source": [],
      "metadata": {
        "id": "bLQ-E_mC9j6D"
      },
      "execution_count": null,
      "outputs": []
    }
  ]
}